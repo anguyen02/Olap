{
  "nbformat": 4,
  "nbformat_minor": 0,
  "metadata": {
    "colab": {
      "provenance": []
    },
    "kernelspec": {
      "name": "python3",
      "display_name": "Python 3"
    },
    "language_info": {
      "name": "python"
    }
  },
  "cells": [
    {
      "cell_type": "code",
      "execution_count": null,
      "metadata": {
        "id": "oh_hpINcBMbc"
      },
      "outputs": [],
      "source": [
        "import pandas as pd\n",
        "import matplotlib.pyplot as plt\n",
        "from sklearn.model_selection import train_test_split\n",
        "from sklearn.ensemble import RandomForestClassifier\n",
        "from sklearn.metrics import accuracy_score"
      ]
    },
    {
      "cell_type": "code",
      "source": [
        "df = pd.read_csv('/content/superstore_dataset2011-2015 (1).csv',encoding='latin-1',thousands=',',delimiter=',')\n",
        "df.head()"
      ],
      "metadata": {
        "colab": {
          "base_uri": "https://localhost:8080/",
          "height": 681
        },
        "id": "6wRtY8I5BQk0",
        "outputId": "15a0973e-f331-4db1-8fee-5d380e2e6720"
      },
      "execution_count": null,
      "outputs": [
        {
          "output_type": "execute_result",
          "data": {
            "text/plain": [
              "   Row ID        Order ID  Order Date   Ship Date       Ship Mode Customer ID  \\\n",
              "0   34662  CA-2011-115161  01/02/2011  03/02/2011     First Class    LC-17050   \n",
              "1   37844  CA-2011-113880  01/03/2011  05/03/2011  Standard Class    VF-21715   \n",
              "2   31454  CA-2011-104269  01/03/2011  06/03/2011    Second Class    DB-13060   \n",
              "3   39607  CA-2011-168312  01/03/2011  07/03/2011  Standard Class    GW-14605   \n",
              "4   39245  CA-2011-131009  01/03/2011  05/03/2011  Standard Class    SC-20380   \n",
              "\n",
              "      Customer Name      Segment           City       State  ...  \\\n",
              "0      Liz Carlisle     Consumer  Mission Viejo  California  ...   \n",
              "1    Vicky Freymann  Home Office       Elmhurst    Illinois  ...   \n",
              "2       Dave Brooks     Consumer        Seattle  Washington  ...   \n",
              "3  Giulietta Weimer     Consumer        Houston       Texas  ...   \n",
              "4  Shahid Collister     Consumer        El Paso       Texas  ...   \n",
              "\n",
              "        Product ID   Category Sub-Category  \\\n",
              "0  FUR-BO-10003966  Furniture    Bookcases   \n",
              "1  FUR-CH-10000863  Furniture       Chairs   \n",
              "2  FUR-CH-10004063  Furniture       Chairs   \n",
              "3  FUR-TA-10001866  Furniture       Tables   \n",
              "4  FUR-CH-10001270  Furniture       Chairs   \n",
              "\n",
              "                                        Product Name    Sales Quantity  \\\n",
              "0  Sauder Facets Collection Library, Sky Alder Fi...  290.666        2   \n",
              "1                   Novimex Swivel Fabric Task Chair  634.116        6   \n",
              "2            Global Deluxe High-Back Manager's Chair  457.568        2   \n",
              "3       Bevis Round Conference Room Tables and Bases  376.509        3   \n",
              "4              Harbour Creations Steel Folding Chair   362.25        6   \n",
              "\n",
              "  Discount      Profit Shipping Cost  OrderPriority  \n",
              "0     0.15      34.196         54.64           High  \n",
              "1     0.30  -1.721.172         70.05           High  \n",
              "2     0.20     514.764         47.89         Medium  \n",
              "3     0.30    -430.296         32.70         Medium  \n",
              "4     0.30           0         25.22         Medium  \n",
              "\n",
              "[5 rows x 24 columns]"
            ],
            "text/html": [
              "\n",
              "  <div id=\"df-38dfc595-c940-44fd-8790-0b801eba9139\">\n",
              "    <div class=\"colab-df-container\">\n",
              "      <div>\n",
              "<style scoped>\n",
              "    .dataframe tbody tr th:only-of-type {\n",
              "        vertical-align: middle;\n",
              "    }\n",
              "\n",
              "    .dataframe tbody tr th {\n",
              "        vertical-align: top;\n",
              "    }\n",
              "\n",
              "    .dataframe thead th {\n",
              "        text-align: right;\n",
              "    }\n",
              "</style>\n",
              "<table border=\"1\" class=\"dataframe\">\n",
              "  <thead>\n",
              "    <tr style=\"text-align: right;\">\n",
              "      <th></th>\n",
              "      <th>Row ID</th>\n",
              "      <th>Order ID</th>\n",
              "      <th>Order Date</th>\n",
              "      <th>Ship Date</th>\n",
              "      <th>Ship Mode</th>\n",
              "      <th>Customer ID</th>\n",
              "      <th>Customer Name</th>\n",
              "      <th>Segment</th>\n",
              "      <th>City</th>\n",
              "      <th>State</th>\n",
              "      <th>...</th>\n",
              "      <th>Product ID</th>\n",
              "      <th>Category</th>\n",
              "      <th>Sub-Category</th>\n",
              "      <th>Product Name</th>\n",
              "      <th>Sales</th>\n",
              "      <th>Quantity</th>\n",
              "      <th>Discount</th>\n",
              "      <th>Profit</th>\n",
              "      <th>Shipping Cost</th>\n",
              "      <th>OrderPriority</th>\n",
              "    </tr>\n",
              "  </thead>\n",
              "  <tbody>\n",
              "    <tr>\n",
              "      <th>0</th>\n",
              "      <td>34662</td>\n",
              "      <td>CA-2011-115161</td>\n",
              "      <td>01/02/2011</td>\n",
              "      <td>03/02/2011</td>\n",
              "      <td>First Class</td>\n",
              "      <td>LC-17050</td>\n",
              "      <td>Liz Carlisle</td>\n",
              "      <td>Consumer</td>\n",
              "      <td>Mission Viejo</td>\n",
              "      <td>California</td>\n",
              "      <td>...</td>\n",
              "      <td>FUR-BO-10003966</td>\n",
              "      <td>Furniture</td>\n",
              "      <td>Bookcases</td>\n",
              "      <td>Sauder Facets Collection Library, Sky Alder Fi...</td>\n",
              "      <td>290.666</td>\n",
              "      <td>2</td>\n",
              "      <td>0.15</td>\n",
              "      <td>34.196</td>\n",
              "      <td>54.64</td>\n",
              "      <td>High</td>\n",
              "    </tr>\n",
              "    <tr>\n",
              "      <th>1</th>\n",
              "      <td>37844</td>\n",
              "      <td>CA-2011-113880</td>\n",
              "      <td>01/03/2011</td>\n",
              "      <td>05/03/2011</td>\n",
              "      <td>Standard Class</td>\n",
              "      <td>VF-21715</td>\n",
              "      <td>Vicky Freymann</td>\n",
              "      <td>Home Office</td>\n",
              "      <td>Elmhurst</td>\n",
              "      <td>Illinois</td>\n",
              "      <td>...</td>\n",
              "      <td>FUR-CH-10000863</td>\n",
              "      <td>Furniture</td>\n",
              "      <td>Chairs</td>\n",
              "      <td>Novimex Swivel Fabric Task Chair</td>\n",
              "      <td>634.116</td>\n",
              "      <td>6</td>\n",
              "      <td>0.30</td>\n",
              "      <td>-1.721.172</td>\n",
              "      <td>70.05</td>\n",
              "      <td>High</td>\n",
              "    </tr>\n",
              "    <tr>\n",
              "      <th>2</th>\n",
              "      <td>31454</td>\n",
              "      <td>CA-2011-104269</td>\n",
              "      <td>01/03/2011</td>\n",
              "      <td>06/03/2011</td>\n",
              "      <td>Second Class</td>\n",
              "      <td>DB-13060</td>\n",
              "      <td>Dave Brooks</td>\n",
              "      <td>Consumer</td>\n",
              "      <td>Seattle</td>\n",
              "      <td>Washington</td>\n",
              "      <td>...</td>\n",
              "      <td>FUR-CH-10004063</td>\n",
              "      <td>Furniture</td>\n",
              "      <td>Chairs</td>\n",
              "      <td>Global Deluxe High-Back Manager's Chair</td>\n",
              "      <td>457.568</td>\n",
              "      <td>2</td>\n",
              "      <td>0.20</td>\n",
              "      <td>514.764</td>\n",
              "      <td>47.89</td>\n",
              "      <td>Medium</td>\n",
              "    </tr>\n",
              "    <tr>\n",
              "      <th>3</th>\n",
              "      <td>39607</td>\n",
              "      <td>CA-2011-168312</td>\n",
              "      <td>01/03/2011</td>\n",
              "      <td>07/03/2011</td>\n",
              "      <td>Standard Class</td>\n",
              "      <td>GW-14605</td>\n",
              "      <td>Giulietta Weimer</td>\n",
              "      <td>Consumer</td>\n",
              "      <td>Houston</td>\n",
              "      <td>Texas</td>\n",
              "      <td>...</td>\n",
              "      <td>FUR-TA-10001866</td>\n",
              "      <td>Furniture</td>\n",
              "      <td>Tables</td>\n",
              "      <td>Bevis Round Conference Room Tables and Bases</td>\n",
              "      <td>376.509</td>\n",
              "      <td>3</td>\n",
              "      <td>0.30</td>\n",
              "      <td>-430.296</td>\n",
              "      <td>32.70</td>\n",
              "      <td>Medium</td>\n",
              "    </tr>\n",
              "    <tr>\n",
              "      <th>4</th>\n",
              "      <td>39245</td>\n",
              "      <td>CA-2011-131009</td>\n",
              "      <td>01/03/2011</td>\n",
              "      <td>05/03/2011</td>\n",
              "      <td>Standard Class</td>\n",
              "      <td>SC-20380</td>\n",
              "      <td>Shahid Collister</td>\n",
              "      <td>Consumer</td>\n",
              "      <td>El Paso</td>\n",
              "      <td>Texas</td>\n",
              "      <td>...</td>\n",
              "      <td>FUR-CH-10001270</td>\n",
              "      <td>Furniture</td>\n",
              "      <td>Chairs</td>\n",
              "      <td>Harbour Creations Steel Folding Chair</td>\n",
              "      <td>362.25</td>\n",
              "      <td>6</td>\n",
              "      <td>0.30</td>\n",
              "      <td>0</td>\n",
              "      <td>25.22</td>\n",
              "      <td>Medium</td>\n",
              "    </tr>\n",
              "  </tbody>\n",
              "</table>\n",
              "<p>5 rows × 24 columns</p>\n",
              "</div>\n",
              "      <button class=\"colab-df-convert\" onclick=\"convertToInteractive('df-38dfc595-c940-44fd-8790-0b801eba9139')\"\n",
              "              title=\"Convert this dataframe to an interactive table.\"\n",
              "              style=\"display:none;\">\n",
              "        \n",
              "  <svg xmlns=\"http://www.w3.org/2000/svg\" height=\"24px\"viewBox=\"0 0 24 24\"\n",
              "       width=\"24px\">\n",
              "    <path d=\"M0 0h24v24H0V0z\" fill=\"none\"/>\n",
              "    <path d=\"M18.56 5.44l.94 2.06.94-2.06 2.06-.94-2.06-.94-.94-2.06-.94 2.06-2.06.94zm-11 1L8.5 8.5l.94-2.06 2.06-.94-2.06-.94L8.5 2.5l-.94 2.06-2.06.94zm10 10l.94 2.06.94-2.06 2.06-.94-2.06-.94-.94-2.06-.94 2.06-2.06.94z\"/><path d=\"M17.41 7.96l-1.37-1.37c-.4-.4-.92-.59-1.43-.59-.52 0-1.04.2-1.43.59L10.3 9.45l-7.72 7.72c-.78.78-.78 2.05 0 2.83L4 21.41c.39.39.9.59 1.41.59.51 0 1.02-.2 1.41-.59l7.78-7.78 2.81-2.81c.8-.78.8-2.07 0-2.86zM5.41 20L4 18.59l7.72-7.72 1.47 1.35L5.41 20z\"/>\n",
              "  </svg>\n",
              "      </button>\n",
              "      \n",
              "  <style>\n",
              "    .colab-df-container {\n",
              "      display:flex;\n",
              "      flex-wrap:wrap;\n",
              "      gap: 12px;\n",
              "    }\n",
              "\n",
              "    .colab-df-convert {\n",
              "      background-color: #E8F0FE;\n",
              "      border: none;\n",
              "      border-radius: 50%;\n",
              "      cursor: pointer;\n",
              "      display: none;\n",
              "      fill: #1967D2;\n",
              "      height: 32px;\n",
              "      padding: 0 0 0 0;\n",
              "      width: 32px;\n",
              "    }\n",
              "\n",
              "    .colab-df-convert:hover {\n",
              "      background-color: #E2EBFA;\n",
              "      box-shadow: 0px 1px 2px rgba(60, 64, 67, 0.3), 0px 1px 3px 1px rgba(60, 64, 67, 0.15);\n",
              "      fill: #174EA6;\n",
              "    }\n",
              "\n",
              "    [theme=dark] .colab-df-convert {\n",
              "      background-color: #3B4455;\n",
              "      fill: #D2E3FC;\n",
              "    }\n",
              "\n",
              "    [theme=dark] .colab-df-convert:hover {\n",
              "      background-color: #434B5C;\n",
              "      box-shadow: 0px 1px 3px 1px rgba(0, 0, 0, 0.15);\n",
              "      filter: drop-shadow(0px 1px 2px rgba(0, 0, 0, 0.3));\n",
              "      fill: #FFFFFF;\n",
              "    }\n",
              "  </style>\n",
              "\n",
              "      <script>\n",
              "        const buttonEl =\n",
              "          document.querySelector('#df-38dfc595-c940-44fd-8790-0b801eba9139 button.colab-df-convert');\n",
              "        buttonEl.style.display =\n",
              "          google.colab.kernel.accessAllowed ? 'block' : 'none';\n",
              "\n",
              "        async function convertToInteractive(key) {\n",
              "          const element = document.querySelector('#df-38dfc595-c940-44fd-8790-0b801eba9139');\n",
              "          const dataTable =\n",
              "            await google.colab.kernel.invokeFunction('convertToInteractive',\n",
              "                                                     [key], {});\n",
              "          if (!dataTable) return;\n",
              "\n",
              "          const docLinkHtml = 'Like what you see? Visit the ' +\n",
              "            '<a target=\"_blank\" href=https://colab.research.google.com/notebooks/data_table.ipynb>data table notebook</a>'\n",
              "            + ' to learn more about interactive tables.';\n",
              "          element.innerHTML = '';\n",
              "          dataTable['output_type'] = 'display_data';\n",
              "          await google.colab.output.renderOutput(dataTable, element);\n",
              "          const docLink = document.createElement('div');\n",
              "          docLink.innerHTML = docLinkHtml;\n",
              "          element.appendChild(docLink);\n",
              "        }\n",
              "      </script>\n",
              "    </div>\n",
              "  </div>\n",
              "  "
            ]
          },
          "metadata": {},
          "execution_count": 7
        }
      ]
    },
    {
      "cell_type": "code",
      "source": [
        "df['Sales'] = pd.to_numeric(df['Sales'], errors='coerce')\n",
        "df['Profit'] = pd.to_numeric(df['Profit'], errors='coerce')"
      ],
      "metadata": {
        "id": "yfv9UCwJBXaM"
      },
      "execution_count": null,
      "outputs": []
    },
    {
      "cell_type": "code",
      "source": [
        "#Xóa giá trị null trong các trường\n",
        "df.dropna(subset=['Sales', 'Quantity', 'Discount', 'Profit', 'OrderPriority'], inplace=True)\n",
        "discount_dtype = df['Sales'].dtype\n",
        "print(discount_dtype)"
      ],
      "metadata": {
        "colab": {
          "base_uri": "https://localhost:8080/"
        },
        "id": "qTYUZyhEBaoc",
        "outputId": "00e19611-3ef5-4fdc-c809-80b9014c3534"
      },
      "execution_count": null,
      "outputs": [
        {
          "output_type": "stream",
          "name": "stdout",
          "text": [
            "float64\n"
          ]
        }
      ]
    },
    {
      "cell_type": "code",
      "source": [
        "features = df[['Sales', 'Quantity','Discount','Profit']]\n",
        "labels = df['OrderPriority']"
      ],
      "metadata": {
        "id": "CSr1xoZnCu4_"
      },
      "execution_count": null,
      "outputs": []
    },
    {
      "cell_type": "code",
      "source": [
        "X_train, X_test, y_train, y_test = train_test_split(features, labels, test_size=0.2, random_state=42)"
      ],
      "metadata": {
        "id": "LnXj9HNyBe00"
      },
      "execution_count": null,
      "outputs": []
    },
    {
      "cell_type": "code",
      "source": [
        "rf = RandomForestClassifier()\n",
        "rf.fit(X_train, y_train)"
      ],
      "metadata": {
        "colab": {
          "base_uri": "https://localhost:8080/",
          "height": 75
        },
        "id": "A6NivWiZBlDs",
        "outputId": "77067642-560e-4096-d9fc-37ca9b53cea0"
      },
      "execution_count": null,
      "outputs": [
        {
          "output_type": "execute_result",
          "data": {
            "text/plain": [
              "RandomForestClassifier()"
            ],
            "text/html": [
              "<style>#sk-container-id-1 {color: black;background-color: white;}#sk-container-id-1 pre{padding: 0;}#sk-container-id-1 div.sk-toggleable {background-color: white;}#sk-container-id-1 label.sk-toggleable__label {cursor: pointer;display: block;width: 100%;margin-bottom: 0;padding: 0.3em;box-sizing: border-box;text-align: center;}#sk-container-id-1 label.sk-toggleable__label-arrow:before {content: \"▸\";float: left;margin-right: 0.25em;color: #696969;}#sk-container-id-1 label.sk-toggleable__label-arrow:hover:before {color: black;}#sk-container-id-1 div.sk-estimator:hover label.sk-toggleable__label-arrow:before {color: black;}#sk-container-id-1 div.sk-toggleable__content {max-height: 0;max-width: 0;overflow: hidden;text-align: left;background-color: #f0f8ff;}#sk-container-id-1 div.sk-toggleable__content pre {margin: 0.2em;color: black;border-radius: 0.25em;background-color: #f0f8ff;}#sk-container-id-1 input.sk-toggleable__control:checked~div.sk-toggleable__content {max-height: 200px;max-width: 100%;overflow: auto;}#sk-container-id-1 input.sk-toggleable__control:checked~label.sk-toggleable__label-arrow:before {content: \"▾\";}#sk-container-id-1 div.sk-estimator input.sk-toggleable__control:checked~label.sk-toggleable__label {background-color: #d4ebff;}#sk-container-id-1 div.sk-label input.sk-toggleable__control:checked~label.sk-toggleable__label {background-color: #d4ebff;}#sk-container-id-1 input.sk-hidden--visually {border: 0;clip: rect(1px 1px 1px 1px);clip: rect(1px, 1px, 1px, 1px);height: 1px;margin: -1px;overflow: hidden;padding: 0;position: absolute;width: 1px;}#sk-container-id-1 div.sk-estimator {font-family: monospace;background-color: #f0f8ff;border: 1px dotted black;border-radius: 0.25em;box-sizing: border-box;margin-bottom: 0.5em;}#sk-container-id-1 div.sk-estimator:hover {background-color: #d4ebff;}#sk-container-id-1 div.sk-parallel-item::after {content: \"\";width: 100%;border-bottom: 1px solid gray;flex-grow: 1;}#sk-container-id-1 div.sk-label:hover label.sk-toggleable__label {background-color: #d4ebff;}#sk-container-id-1 div.sk-serial::before {content: \"\";position: absolute;border-left: 1px solid gray;box-sizing: border-box;top: 0;bottom: 0;left: 50%;z-index: 0;}#sk-container-id-1 div.sk-serial {display: flex;flex-direction: column;align-items: center;background-color: white;padding-right: 0.2em;padding-left: 0.2em;position: relative;}#sk-container-id-1 div.sk-item {position: relative;z-index: 1;}#sk-container-id-1 div.sk-parallel {display: flex;align-items: stretch;justify-content: center;background-color: white;position: relative;}#sk-container-id-1 div.sk-item::before, #sk-container-id-1 div.sk-parallel-item::before {content: \"\";position: absolute;border-left: 1px solid gray;box-sizing: border-box;top: 0;bottom: 0;left: 50%;z-index: -1;}#sk-container-id-1 div.sk-parallel-item {display: flex;flex-direction: column;z-index: 1;position: relative;background-color: white;}#sk-container-id-1 div.sk-parallel-item:first-child::after {align-self: flex-end;width: 50%;}#sk-container-id-1 div.sk-parallel-item:last-child::after {align-self: flex-start;width: 50%;}#sk-container-id-1 div.sk-parallel-item:only-child::after {width: 0;}#sk-container-id-1 div.sk-dashed-wrapped {border: 1px dashed gray;margin: 0 0.4em 0.5em 0.4em;box-sizing: border-box;padding-bottom: 0.4em;background-color: white;}#sk-container-id-1 div.sk-label label {font-family: monospace;font-weight: bold;display: inline-block;line-height: 1.2em;}#sk-container-id-1 div.sk-label-container {text-align: center;}#sk-container-id-1 div.sk-container {/* jupyter's `normalize.less` sets `[hidden] { display: none; }` but bootstrap.min.css set `[hidden] { display: none !important; }` so we also need the `!important` here to be able to override the default hidden behavior on the sphinx rendered scikit-learn.org. See: https://github.com/scikit-learn/scikit-learn/issues/21755 */display: inline-block !important;position: relative;}#sk-container-id-1 div.sk-text-repr-fallback {display: none;}</style><div id=\"sk-container-id-1\" class=\"sk-top-container\"><div class=\"sk-text-repr-fallback\"><pre>RandomForestClassifier()</pre><b>In a Jupyter environment, please rerun this cell to show the HTML representation or trust the notebook. <br />On GitHub, the HTML representation is unable to render, please try loading this page with nbviewer.org.</b></div><div class=\"sk-container\" hidden><div class=\"sk-item\"><div class=\"sk-estimator sk-toggleable\"><input class=\"sk-toggleable__control sk-hidden--visually\" id=\"sk-estimator-id-1\" type=\"checkbox\" checked><label for=\"sk-estimator-id-1\" class=\"sk-toggleable__label sk-toggleable__label-arrow\">RandomForestClassifier</label><div class=\"sk-toggleable__content\"><pre>RandomForestClassifier()</pre></div></div></div></div></div>"
            ]
          },
          "metadata": {},
          "execution_count": 12
        }
      ]
    },
    {
      "cell_type": "code",
      "source": [
        "# Dự đoán nhãn của các điểm dữ liệu trong tập kiểm tra\n",
        "y_pred = rf.predict(X_test)"
      ],
      "metadata": {
        "id": "Xf5txcDKBoDE"
      },
      "execution_count": null,
      "outputs": []
    },
    {
      "cell_type": "code",
      "source": [
        "# Đánh giá hiệu suất của mô hình\n",
        "accuracy = accuracy_score(y_test, y_pred)\n",
        "print(\"Accuracy:\", accuracy)"
      ],
      "metadata": {
        "colab": {
          "base_uri": "https://localhost:8080/"
        },
        "id": "nZQto6N3BrcS",
        "outputId": "ef86accf-9507-4589-bdaa-35a8897672c7"
      },
      "execution_count": null,
      "outputs": [
        {
          "output_type": "stream",
          "name": "stdout",
          "text": [
            "Accuracy: 0.49347116430903154\n"
          ]
        }
      ]
    },
    {
      "cell_type": "code",
      "source": [
        "# Trực quan hóa mức độ quan trọng của các thuộc tính\n",
        "importance = rf.feature_importances_\n",
        "feature_names = features.columns\n"
      ],
      "metadata": {
        "id": "Bg8UU8A-BuLL"
      },
      "execution_count": null,
      "outputs": []
    },
    {
      "cell_type": "code",
      "source": [
        "# Sắp xếp các thuộc tính theo mức độ quan trọng giảm dần\n",
        "indices = importance.argsort()[::-1]\n",
        "sorted_names = [feature_names[i] for i in indices]\n",
        "sorted_importance = importance[indices]"
      ],
      "metadata": {
        "id": "WKUwJWazBxDr"
      },
      "execution_count": null,
      "outputs": []
    },
    {
      "cell_type": "code",
      "source": [
        "# Vẽ biểu đồ cột\n",
        "plt.barh(range(len(sorted_importance)), sorted_importance, align='center')\n",
        "plt.yticks(range(len(sorted_importance)), sorted_names)\n",
        "plt.xlabel('Importance')\n",
        "plt.title('Feature Importance')\n",
        "plt.show()"
      ],
      "metadata": {
        "colab": {
          "base_uri": "https://localhost:8080/",
          "height": 472
        },
        "id": "0x3z-XaYBzBj",
        "outputId": "34ca60b1-bb5d-409f-d2e7-509f8be37ba8"
      },
      "execution_count": null,
      "outputs": [
        {
          "output_type": "display_data",
          "data": {
            "text/plain": [
              "<Figure size 640x480 with 1 Axes>"
            ],
            "image/png": "[encoded data removed]"
          },
          "metadata": {}
        }
      ]
    }
  ]
}